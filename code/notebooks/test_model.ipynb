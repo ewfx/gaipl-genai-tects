{
 "cells": [
  {
   "cell_type": "code",
   "execution_count": 1,
   "metadata": {},
   "outputs": [],
   "source": [
    "from sklearn.linear_model import LogisticRegression"
   ]
  },
  {
   "cell_type": "code",
   "execution_count": 3,
   "metadata": {},
   "outputs": [],
   "source": [
    "import pandas as pd\n",
    "from sklearn.model_selection import train_test_split\n",
    "from sklearn.feature_extraction.text import TfidfVectorizer"
   ]
  },
  {
   "cell_type": "code",
   "execution_count": null,
   "metadata": {},
   "outputs": [
    {
     "data": {
      "text/plain": [
       "<bound method NDFrame.head of    Incident ID              Incident Name  \\\n",
       "0      INC1001          Database Downtime   \n",
       "1      INC1002      Network Latency Issue   \n",
       "2      INC1003       Email Server Failure   \n",
       "3      INC1004          CRM Login Failure   \n",
       "4      INC1005   High CPU Usage on Server   \n",
       "5      INC1006        API Gateway Timeout   \n",
       "6      INC1007  Unauthorized Access Alert   \n",
       "7      INC1008     VPN Connectivity Issue   \n",
       "8      INC1009    File Server Unavailable   \n",
       "9      INC1010      Web Application Crash   \n",
       "10     INC1011      Firewall Policy Issue   \n",
       "\n",
       "                                 Incident Description      Priority  \\\n",
       "0                    Database service is unreachable.  1 - Critical   \n",
       "1         Slow network performance during peak hours.      2 - High   \n",
       "2     Unable to send emails; messages stuck in queue.  1 - Critical   \n",
       "3   Users unable to log in due to authentication e...      2 - High   \n",
       "4           Application server showing 95% CPU usage.  1 - Critical   \n",
       "5            API requests are intermittently failing.      2 - High   \n",
       "6            Multiple failed login attempts detected.  1 - Critical   \n",
       "7           Users unable to connect to corporate VPN.      2 - High   \n",
       "8                  Shared network drive inaccessible.  1 - Critical   \n",
       "9        Internal web application frequently crashes.    3 - Medium   \n",
       "10    Users blocked from accessing external services.      2 - High   \n",
       "\n",
       "         Assigned To       Status  \\\n",
       "0      Alice Johnson     Resolved   \n",
       "1          Bob Smith  In Progress   \n",
       "2   Charlie Williams     Resolved   \n",
       "3          David Lee     Resolved   \n",
       "4      Alice Johnson  In Progress   \n",
       "5          Bob Smith    Escalated   \n",
       "6   Charlie Williams     Resolved   \n",
       "7          David Lee     Resolved   \n",
       "8      Alice Johnson     Resolved   \n",
       "9          Bob Smith  In Progress   \n",
       "10  Charlie Williams     Resolved   \n",
       "\n",
       "                                      Debugging Steps  \\\n",
       "0   1. Check server logs for DB errors. 2. Verify ...   \n",
       "1   1. Analyze network traffic patterns. 2. Check ...   \n",
       "2   1. Review SMTP logs for errors. 2. Check email...   \n",
       "3   1. Verify SSO authentication logs. 2. Check AD...   \n",
       "4   1. Monitor CPU & memory usage. 2. Identify res...   \n",
       "5   1. Check API gateway logs. 2. Verify backend s...   \n",
       "6   1. Investigate security logs. 2. Identify susp...   \n",
       "7   1. Verify VPN gateway logs. 2. Check firewall ...   \n",
       "8   1. Restart file server. 2. Verify storage moun...   \n",
       "9   1. Check application logs for error stack trac...   \n",
       "10  1. Review firewall logs. 2. Identify blocked t...   \n",
       "\n",
       "                              First Debugging Step  \\\n",
       "0                 Check server logs for DB errors.   \n",
       "1                Analyze network traffic patterns.   \n",
       "2                     Review SMTP logs for errors.   \n",
       "3                  Verify SSO authentication logs.   \n",
       "4                      Monitor CPU & memory usage.   \n",
       "5                          Check API gateway logs.   \n",
       "6                       Investigate security logs.   \n",
       "7                         Verify VPN gateway logs.   \n",
       "8                             Restart file server.   \n",
       "9   Check application logs for error stack traces.   \n",
       "10                           Review firewall logs.   \n",
       "\n",
       "                                           Resolution  \\\n",
       "0   Restarted DB services and confirmed successful...   \n",
       "1   Applied QoS policies to prioritize critical tr...   \n",
       "2   Restarted mail services and verified outgoing ...   \n",
       "3   Cleared session caches and updated expired cer...   \n",
       "4   Restarted services and optimized resource allo...   \n",
       "5   Scaled up API nodes and implemented request re...   \n",
       "6        Enforced MFA and notified the security team.   \n",
       "7   Re-authenticated users and confirmed stable co...   \n",
       "8   Restored NTFS & SMB permissions, ran a file sy...   \n",
       "9       Restarted app & monitored logs for stability.   \n",
       "10  Applied policy updates and restarted firewall ...   \n",
       "\n",
       "                                    Communication Log  \n",
       "0   Customer: DB is down. Support: Restarted DB se...  \n",
       "1   Customer: Network is slow. Support: Running di...  \n",
       "2   Customer: Can’t send emails. Support: Restarte...  \n",
       "3   Customer: CRM login issue. Support: Reset auth...  \n",
       "4   Customer: App server is slow. Support: Investi...  \n",
       "5   Customer: API calls are failing. Support: Revi...  \n",
       "6   Customer: Unusual login attempts. Support: Blo...  \n",
       "7   Customer: VPN not working. Support: Restarted ...  \n",
       "8   Customer: Can’t access shared drive. Support: ...  \n",
       "9   Customer: App crashes randomly. Support: Check...  \n",
       "10  Customer: Can’t access external apps. Support:...  >"
      ]
     },
     "execution_count": 5,
     "metadata": {},
     "output_type": "execute_result"
    }
   ],
   "source": [
    "# Load dataset\n",
    "df = pd.read_csv(\"C:\\Workspace\\hackathon24\\gaipl-genai-tects\\code\\data\\incidents-generated-data-v2.csv\")\n",
    "    \n",
    "# Select relevant columns\n",
    "df.columns()\n",
    "#df = df[['Incident Name','Incident Description', 'Debugging Step', 'Resolution']]\n"
   ]
  },
  {
   "cell_type": "code",
   "execution_count": 7,
   "metadata": {},
   "outputs": [
    {
     "data": {
      "text/plain": [
       "Index(['Incident ID', 'Incident Name', 'Incident Description', 'Priority',\n",
       "       'Assigned To', 'Status', 'Debugging Steps', 'First Debugging Step',\n",
       "       'Resolution', 'Communication Log'],\n",
       "      dtype='object')"
      ]
     },
     "execution_count": 7,
     "metadata": {},
     "output_type": "execute_result"
    }
   ],
   "source": [
    "df.columns"
   ]
  },
  {
   "cell_type": "code",
   "execution_count": null,
   "metadata": {},
   "outputs": [],
   "source": [
    "# Drop any missing values\n",
    "df.dropna(inplace=True)\n",
    "\n",
    "# Split data into training and test sets\n",
    "X_train, X_test, y_train, y_test = train_test_split(df[['Incident Name', 'Incident Description', 'Resolution']], df['Debugging Steps'], test_size=0.2, random_state=42)\n",
    "\n",
    "# Convert text data into numerical format using TF-IDF\n",
    "vectorizer = TfidfVectorizer()\n",
    "X_train_tfidf = vectorizer.fit_transform(X_train)\n",
    "X_test_tfidf = vectorizer.transform(X_test)\n"
   ]
  },
  {
   "cell_type": "code",
   "execution_count": null,
   "metadata": {},
   "outputs": [],
   "source": [
    "# Train a simple model\n",
    "model = LogisticRegression()\n",
    "model.fit(X_train, y_train)"
   ]
  }
 ],
 "metadata": {
  "kernelspec": {
   "display_name": "venv",
   "language": "python",
   "name": "python3"
  },
  "language_info": {
   "codemirror_mode": {
    "name": "ipython",
    "version": 3
   },
   "file_extension": ".py",
   "mimetype": "text/x-python",
   "name": "python",
   "nbconvert_exporter": "python",
   "pygments_lexer": "ipython3",
   "version": "3.11.8"
  }
 },
 "nbformat": 4,
 "nbformat_minor": 2
}
